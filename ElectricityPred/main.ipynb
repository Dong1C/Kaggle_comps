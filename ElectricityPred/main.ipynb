{
 "cells": [
  {
   "cell_type": "markdown",
   "metadata": {},
   "source": [
    "# 电力需求预测挑战赛\n",
    "一句话介绍赛题任务可以这样理解赛题：\n",
    "\n",
    "**【训练时序预测模型助力电力需求预测】**\n",
    "\n",
    "电力需求的准确预测对于电网的稳定运行、能源的有效管理以及可再生能源的整合至关重要。\n",
    "\n",
    "## 赛题任务\n",
    "给定多个房屋对应电力消耗历史N天的相关序列数据等信息，预测房屋对应电力的消耗。\n",
    "\n",
    "## 赛题数据简介\n",
    "赛题数据由训练集和测试集组成，为了保证比赛的公平性，将每日日期进行脱敏，用1-N进行标识。\n",
    "\n",
    "即1为数据集最近一天，其中1-10为测试集数据。\n",
    "\n",
    "数据集由字段id（房屋id）、 dt（日标识）、type（房屋类型）、target（实际电力消耗）组成。\n",
    "\n",
    "# 下面进入baseline代码"
   ]
  },
  {
   "cell_type": "code",
   "execution_count": 1,
   "metadata": {
    "execution": {
     "iopub.execute_input": "2024-07-15T05:03:26.879331Z",
     "iopub.status.busy": "2024-07-15T05:03:26.878722Z",
     "iopub.status.idle": "2024-07-15T05:03:28.827144Z",
     "shell.execute_reply": "2024-07-15T05:03:28.825824Z",
     "shell.execute_reply.started": "2024-07-15T05:03:26.879299Z"
    },
    "scrolled": true
   },
   "outputs": [],
   "source": [
    "# 1. 导入需要用到的相关库\n",
    "# 导入 pandas 库，用于数据处理和分析\n",
    "import pandas as pd\n",
    "# 导入 numpy 库，用于科学计算和多维数组操作\n",
    "import numpy as np\n",
    "\n",
    "# 2. 读取训练集和测试集\n",
    "# 使用 read_csv() 函数从文件中读取训练集数据，文件名为 'train.csv'\n",
    "train = pd.read_csv('./data/data283931/train.csv')\n",
    "# 使用 read_csv() 函数从文件中读取测试集数据，文件名为 'train.csv'\n",
    "test = pd.read_csv('./data/data283931/test.csv')\n",
    "\n",
    "# 3. 计算训练数据最近11-20单位时间内对应id的目标均值\n",
    "target_mean = train[train['dt']<=20].groupby(['id'])['target'].mean().reset_index()\n",
    "\n",
    "# 4. 将target_mean作为测试集结果进行合并\n",
    "# 5. 直接把所有target赋值为target_mean\n",
    "test = test.merge(target_mean, on=['id'], how='left')\n",
    "\n",
    "# 5. 保存结果文件到本地\n",
    "test[['id','dt','target']].to_csv('submit.csv', index=None)"
   ]
  },
  {
   "cell_type": "code",
   "execution_count": null,
   "metadata": {
    "scrolled": true
   },
   "outputs": [],
   "source": []
  }
 ],
 "metadata": {
  "kernelspec": {
   "display_name": "Python 3",
   "language": "python",
   "name": "py35-paddle1.2.0"
  },
  "language_info": {
   "codemirror_mode": {
    "name": "ipython",
    "version": 3
   },
   "file_extension": ".py",
   "mimetype": "text/x-python",
   "name": "python",
   "nbconvert_exporter": "python",
   "pygments_lexer": "ipython3",
   "version": "3.10.10"
  },
  "vscode": {
   "interpreter": {
    "hash": "09f0dbf7b1569c1ab842ae2f41770fe6aa1b54326d081112fa5944b99abb5899"
   }
  }
 },
 "nbformat": 4,
 "nbformat_minor": 4
}
