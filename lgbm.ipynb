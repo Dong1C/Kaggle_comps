{
 "cells": [
  {
   "cell_type": "code",
   "execution_count": null,
   "metadata": {},
   "outputs": [
    {
     "name": "stdout",
     "output_type": "stream",
     "text": [
      "Looking in indexes: https://mirror.baidu.com/pypi/simple/, https://mirrors.aliyun.com/pypi/simple/\r\n",
      "Requirement already satisfied: lightgbm in /opt/conda/envs/python35-paddle120-env/lib/python3.10/site-packages (4.4.0)\r\n",
      "Requirement already satisfied: numpy>=1.17.0 in /opt/conda/envs/python35-paddle120-env/lib/python3.10/site-packages (from lightgbm) (1.26.4)\r\n",
      "Requirement already satisfied: scipy in /opt/conda/envs/python35-paddle120-env/lib/python3.10/site-packages (from lightgbm) (1.14.0)\r\n"
     ]
    }
   ],
   "source": [
    "!pip install lightgbm"
   ]
  },
  {
   "cell_type": "code",
   "execution_count": null,
   "metadata": {},
   "outputs": [
    {
     "name": "stdout",
     "output_type": "stream",
     "text": [
      "Iteration 500, evaluation result: [('training', 'l2', 192.34290910999715, False), ('valid_1', 'l2', 189.92740126346237, False)]\r\n",
      "Iteration 1000, evaluation result: [('training', 'l2', 181.36818819995142, False), ('valid_1', 'l2', 185.3841855788365, False)]\r\n",
      "Iteration 1500, evaluation result: [('training', 'l2', 175.12588271488517, False), ('valid_1', 'l2', 184.22496899410484, False)]\r\n",
      "Iteration 2000, evaluation result: [('training', 'l2', 170.5459611881833, False), ('valid_1', 'l2', 184.02657881024567, False)]\r\n",
      "183.6860000177447\r\n"
     ]
    }
   ],
   "source": [
    "import lightgbm as lgb\n",
    "from sklearn.metrics import mean_squared_log_error, mean_absolute_error, mean_squared_error\n",
    "import tqdm\n",
    "import sys\n",
    "import os\n",
    "import gc\n",
    "import argparse\n",
    "import warnings\n",
    "warnings.filterwarnings('ignore')\n",
    "\n",
    "\n",
    "def time_model(lgb, train_df, test_df, cols):\n",
    " \n",
    "\n",
    "    # 训练集和验证集切分\n",
    "    trn_x, trn_y = train_df[train_df.dt>=31][cols], train_df[train_df.dt>=31]['target']\n",
    "    val_x, val_y = train_df[train_df.dt<=30][cols], train_df[train_df.dt<=30]['target']\n",
    "    # 构建模型输入数据\n",
    "    train_matrix = lgb.Dataset(trn_x, label=trn_y)\n",
    "    valid_matrix = lgb.Dataset(val_x, label=val_y)\n",
    "    # lightgbm参数\n",
    "    lgb_params = {\n",
    "        'boosting_type': 'gbdt',\n",
    "        'objective': 'regression',\n",
    "        'metric': 'mse',\n",
    "        'min_child_weight': 5,\n",
    "        'num_leaves': 2 ** 5,\n",
    "        'lambda_l2': 10,\n",
    "        'feature_fraction': 0.8,\n",
    "        'bagging_fraction': 0.8,\n",
    "        'bagging_freq': 4,\n",
    "        'learning_rate': 0.025,\n",
    "        'seed': 2024,\n",
    "        'nthread' : 16,\n",
    "        'verbose' : -1,\n",
    "        'early_stopping_round' : 500\n",
    "        # 'verbose_eval' : 500,\n",
    "    }\n",
    "\n",
    "    # 训练模型\n",
    "    model = lgb.train(lgb_params, train_matrix, 50000, valid_sets=[train_matrix, valid_matrix], \n",
    "                      categorical_feature=[], callbacks=[print_evaluation(period=500)])\n",
    "    \n",
    "    # 打印评估回调函数\n",
    "    def print_evaluation(period=1):\n",
    "        def callback(env):\n",
    "            if (env.iteration + 1) % period == 0:\n",
    "                print(f'Iteration {env.iteration + 1}, evaluation result: {env.evaluation_result_list}')\n",
    "        return callback\n",
    "\n",
    "    # 验证集和测试集结果预测\n",
    "    val_pred = model.predict(val_x, num_iteration=model.best_iteration)\n",
    "    test_pred = model.predict(test_df[cols], num_iteration=model.best_iteration)\n",
    "       \n",
    "    # 离线分数评估\n",
    "    score = mean_squared_error(val_pred, val_y)\n",
    "    print(score)\n",
    "    \n",
    "    return val_pred, test_pred\n",
    "    \n",
    "lgb_oof, lgb_test = time_model(lgb, train, test, train_cols)\n",
    "\n",
    "# 保存结果文件到本地\n",
    "test['target'] = lgb_test\n",
    "test[['id','dt','target']].to_csv('submit.csv', index=None)"
   ]
  }
 ],
 "metadata": {
  "kernelspec": {
   "display_name": "psc",
   "language": "python",
   "name": "python3"
  },
  "language_info": {
   "name": "python",
   "version": "3.11.9"
  }
 },
 "nbformat": 4,
 "nbformat_minor": 2
}
